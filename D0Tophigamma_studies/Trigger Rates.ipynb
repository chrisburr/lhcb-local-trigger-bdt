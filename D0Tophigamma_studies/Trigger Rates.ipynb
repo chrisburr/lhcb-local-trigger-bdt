{
 "cells": [
  {
   "cell_type": "code",
   "execution_count": 1,
   "metadata": {
    "collapsed": true
   },
   "outputs": [],
   "source": [
    "%matplotlib inline"
   ]
  },
  {
   "cell_type": "code",
   "execution_count": 2,
   "metadata": {
    "collapsed": true
   },
   "outputs": [],
   "source": [
    "from collections import namedtuple\n",
    "from glob import glob\n",
    "import re"
   ]
  },
  {
   "cell_type": "code",
   "execution_count": 3,
   "metadata": {
    "collapsed": true
   },
   "outputs": [],
   "source": [
    "import pandas as pd\n",
    "from matplotlib import pyplot as plt"
   ]
  },
  {
   "cell_type": "code",
   "execution_count": 4,
   "metadata": {
    "collapsed": true
   },
   "outputs": [],
   "source": [
    "Rate = namedtuple('Rate', ['accept', 'total', 'efficiency'])"
   ]
  },
  {
   "cell_type": "markdown",
   "metadata": {},
   "source": [
    "## Signal efficiency"
   ]
  },
  {
   "cell_type": "code",
   "execution_count": 5,
   "metadata": {
    "collapsed": true
   },
   "outputs": [],
   "source": [
    "signal_rates = {\n",
    "    0.6: (25808, 25843),\n",
    "    0.65: (25780, 25843),\n",
    "    0.7: (25739, 25843),\n",
    "    0.75: (25679, 25843),\n",
    "    0.8: (25557, 25843),\n",
    "    0.85: (25484, 25843),\n",
    "    0.9: (25366, 25843),\n",
    "    0.95: (25149, 25843),\n",
    "    1: (24850, 25843),\n",
    "    1.05: (24354, 25843),\n",
    "    1.1: (23530, 25843),\n",
    "    1.15: (22688, 25843),\n",
    "    1.2: (21449, 25843),\n",
    "    1.25: (19697, 25843),\n",
    "    1.3: (17052, 25843),\n",
    "    1.35: (13284, 25843),\n",
    "    1.4: (8984, 25843),\n",
    "    1.45: (3041, 25843),\n",
    "    1.5: (428, 25843),\n",
    "    1.55: (16, 25843),\n",
    "    1.6: (0, 25843),\n",
    "}\n",
    "signal_rates = {k: Rate(a, t, a/t) for k, (a, t) in signal_rates.items()}"
   ]
  },
  {
   "cell_type": "code",
   "execution_count": 6,
   "metadata": {
    "collapsed": false
   },
   "outputs": [
    {
     "data": {
      "text/plain": [
       "<matplotlib.text.Text at 0x7fce77548e48>"
      ]
     },
     "execution_count": 6,
     "metadata": {},
     "output_type": "execute_result"
    },
    {
     "data": {
      "image/png": "[encoded data removed]",
      "text/plain": [
       "<matplotlib.figure.Figure at 0x7fce794e9940>"
      ]
     },
     "metadata": {},
     "output_type": "display_data"
    }
   ],
   "source": [
    "xs, ys = list(zip(*sorted(signal_rates.items())))\n",
    "plt.axvline(1.455, ls='--', c='k', alpha=0.5)\n",
    "plt.plot(xs, [r.efficiency*100 for r in ys])\n",
    "plt.xlim(0.5, 2)\n",
    "plt.ylim(0, 100)\n",
    "plt.xlabel('Dst2PiD02HHX BDT Threshold')\n",
    "plt.ylabel('Signal efficiency (wrt 2012 trig+strip) [%]')"
   ]
  },
  {
   "cell_type": "markdown",
   "metadata": {},
   "source": [
    "## Background \"efficiency\""
   ]
  },
  {
   "cell_type": "code",
   "execution_count": 7,
   "metadata": {
    "collapsed": true
   },
   "outputs": [],
   "source": [
    "def get_n_entries(df, algorithm_name):\n",
    "    algorithm = df[df.Algorithm == algorithm_name]\n",
    "    assert len(algorithm) == 1\n",
    "    return algorithm.iloc[0].entries"
   ]
  },
  {
   "cell_type": "code",
   "execution_count": 8,
   "metadata": {
    "collapsed": false
   },
   "outputs": [
    {
     "name": "stdout",
     "output_type": "stream",
     "text": [
      "Threshold = 0.6: Accepted 110 out of 1000 (11.0%)\n",
      "Threshold = 0.8: Accepted 99 out of 1000 (9.9%)\n",
      "Threshold = 0.9: Accepted 90 out of 1000 (9.0%)\n",
      "Threshold = 1.0: Accepted 78 out of 1000 (7.8%)\n",
      "Threshold = 1.1: Accepted 58 out of 1000 (5.8%)\n",
      "Threshold = 1.3: Accepted 23 out of 934 (2.5%)\n",
      "Threshold = 1.4: Accepted 7 out of 610 (1.1%)\n",
      "Threshold = 1.5: Accepted 1 out of 303 (0.3%)\n"
     ]
    }
   ],
   "source": [
    "background_rates = {}\n",
    "for fn in sorted(glob('MooreDev_v26r2_BDT_Threshold_*/Moore_RateTest.csv')):\n",
    "    a, b = re.search('BDT_Threshold_(\\d+)_(\\d+)/', fn).groups()\n",
    "    threshold = int(a)+int(b)/10\n",
    "    \n",
    "    df = pd.read_csv(fn, sep=', ', engine='python')\n",
    "    n_total = get_n_entries(df, 'EVENT LOOP')\n",
    "    n_accepted = get_n_entries(df, 'Hlt2CharmHadInclDst2PiD02HHXBDTDecision')\n",
    "    efficiency = n_accepted/n_total\n",
    "    \n",
    "    background_rates[threshold] = Rate(n_accepted, n_total, efficiency)\n",
    "    print(f'Threshold = {threshold}: Accepted {n_accepted} out of {n_total} ({efficiency:.1%})')"
   ]
  },
  {
   "cell_type": "code",
   "execution_count": 9,
   "metadata": {
    "collapsed": false
   },
   "outputs": [
    {
     "data": {
      "text/plain": [
       "<matplotlib.text.Text at 0x7fce7749fcf8>"
      ]
     },
     "execution_count": 9,
     "metadata": {},
     "output_type": "execute_result"
    },
    {
     "data": {
      "image/png": "[encoded data removed]",
      "text/plain": [
       "<matplotlib.figure.Figure at 0x7fce7720b240>"
      ]
     },
     "metadata": {},
     "output_type": "display_data"
    }
   ],
   "source": [
    "xs, ys = list(zip(*sorted(background_rates.items())))\n",
    "plt.axvline(1.455, ls='--', c='k', alpha=0.5)\n",
    "plt.plot(xs, [r.efficiency*100 for r in ys])\n",
    "plt.xlim(0.5, 2)\n",
    "plt.ylim(0, 12)\n",
    "plt.xlabel('Dst2PiD02HHX BDT Threshold')\n",
    "plt.ylabel('Background efficiency [%]')"
   ]
  },
  {
   "cell_type": "markdown",
   "metadata": {},
   "source": [
    "# Summary"
   ]
  },
  {
   "cell_type": "code",
   "execution_count": 10,
   "metadata": {
    "collapsed": false
   },
   "outputs": [
    {
     "data": {
      "text/plain": [
       "<matplotlib.text.Text at 0x7fce77461898>"
      ]
     },
     "execution_count": 10,
     "metadata": {},
     "output_type": "execute_result"
    },
    {
     "data": {
      "image/png": "[encoded data removed]",
      "text/plain": [
       "<matplotlib.figure.Figure at 0x7fce771d10b8>"
      ]
     },
     "metadata": {},
     "output_type": "display_data"
    }
   ],
   "source": [
    "plt.axvline(1.455, ls='--', c='k', alpha=0.5, label='Current threshold')\n",
    "xs, ys = list(zip(*sorted(signal_rates.items())))\n",
    "plt.plot(xs, [r.efficiency*100 for r in ys], label='Signal')\n",
    "xs, ys = list(zip(*sorted(background_rates.items())))\n",
    "plt.plot(xs, [r.efficiency*100/ys[0].efficiency for r in ys], label='Background')\n",
    "plt.xlim(0.5, 2)\n",
    "plt.ylim(0, 100)\n",
    "plt.xlabel('Dst2PiD02HHX BDT Threshold')\n",
    "plt.ylabel('Efficiency (scaled)')"
   ]
  },
  {
   "cell_type": "code",
   "execution_count": null,
   "metadata": {
    "collapsed": true
   },
   "outputs": [],
   "source": []
  }
 ],
 "metadata": {
  "anaconda-cloud": {},
  "kernelspec": {
   "display_name": "Python [conda env:analysis-3.6]",
   "language": "python",
   "name": "conda-env-analysis-3.6-py"
  },
  "language_info": {
   "codemirror_mode": {
    "name": "ipython",
    "version": 3
   },
   "file_extension": ".py",
   "mimetype": "text/x-python",
   "name": "python",
   "nbconvert_exporter": "python",
   "pygments_lexer": "ipython3",
   "version": "3.6.0"
  }
 },
 "nbformat": 4,
 "nbformat_minor": 1
}
